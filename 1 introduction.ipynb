{
 "cells": [
  {
   "cell_type": "markdown",
   "id": "458c4bf7-14e6-4d93-9105-2fc41fddeaed",
   "metadata": {},
   "source": [
    "## Introducción a las series de tiempo\n",
    "\n",
    "En esta sección se hará una revisión, estadística descriptiva, transformación y presentación de los datos. Servirá como una introducción a la manipulación de series de tiempo"
   ]
  },
  {
   "cell_type": "code",
   "execution_count": 3,
   "id": "ac421cde-3ca4-4c57-855d-0588f98ed769",
   "metadata": {},
   "outputs": [],
   "source": [
    "import pandas as pd\n",
    "import numpy as np\n",
    "import matplotlib.pyplot as plt\n",
    "\n",
    "import warnings\n",
    "warnings.simplefilter(\"ignore\")"
   ]
  },
  {
   "cell_type": "code",
   "execution_count": 4,
   "id": "27983395-506c-445f-bdb8-85593a0e9215",
   "metadata": {},
   "outputs": [],
   "source": [
    "df = pd.read_excel(\"./Bases de datos/PeruData.xlsx\", sheet_name=\"Trimestral\", skiprows=1)"
   ]
  },
  {
   "cell_type": "code",
   "execution_count": 5,
   "id": "52cab34d-68c6-4031-89fd-f499a13c6b40",
   "metadata": {},
   "outputs": [
    {
     "data": {
      "text/plain": [
       "Index(['Trimestres',\n",
       "       'Producto bruto interno por tipo de gasto (millones S/ 2007) - PBI',\n",
       "       'Producto bruto interno por tipo de gasto (millones S/ 2007) - Demanda Interna',\n",
       "       'Producto bruto interno por tipo de gasto (millones S/ 2007) - Demanda Interna - Consumo Privado',\n",
       "       'Producto bruto interno por tipo de gasto (millones S/ 2007) - Demanda Interna - Consumo Público',\n",
       "       'Producto bruto interno por tipo de gasto (millones S/ 2007) - Demanda Interna - Inversión Bruta Interna',\n",
       "       'Producto bruto interno por tipo de gasto (millones S/ 2007) - Demanda Interna - Inversión Bruta Interna - Inversión Bruta Fija - Privada',\n",
       "       'Producto bruto interno por tipo de gasto (millones S/ 2007) - Demanda Interna - Inversión Bruta Interna - Inversión Bruta Fija - Pública',\n",
       "       'Producto bruto interno por tipo de gasto (millones S/ 2007) - Exportaciones',\n",
       "       'Producto bruto interno por tipo de gasto (millones S/ 2007) - Importaciones',\n",
       "       'Índice de precios Lima Metropolitana (índice Dic.2021 = 100) - Índice de Precios al Consumidor (IPC)',\n",
       "       'Tasas de interés del Banco Central de Reserva  - Tasa de Referencia de la Política Monetaria',\n",
       "       'Liquidez de las sociedades creadoras de depósito (fin de periodo) - Circulante (millones S/)',\n",
       "       'Crédito de las sociedades creadoras de depósito al sector privado (fin de periodo) - Crédito MN (millones S/)',\n",
       "       'Crédito de las sociedades creadoras de depósito al sector privado (fin de periodo) - Coeficiente de Dolarización (%)',\n",
       "       'Liquidez de las sociedades creadoras de depósito (fin de periodo) - Coeficiente de Dolarización de la Liquidez (%)',\n",
       "       'Tasas de interés de bonos del gobierno peruano - Rendimiento del Bono del gobierno peruano a 10 años (en S/)',\n",
       "       'Reservas internacionales netas del BCRP (millones S/) - Reservas Internacionales Netas (millones S/)',\n",
       "       'Saldo de la deuda del sector público no financiero (porcentaje del PBI) - Deuda Pública',\n",
       "       'Producto bruto interno (millones de soles constantes de 2007) - Minería e Hidrocarburos',\n",
       "       'Producto bruto interno (millones de soles constantes de 2007) - Electricidad y Agua',\n",
       "       'Producto bruto interno (millones de soles constantes de 2007) - Construcción',\n",
       "       'Producto bruto interno (millones de soles constantes de 2007) - Comercio',\n",
       "       'Producto bruto interno (millones de soles constantes de 2007) - Servicios'],\n",
       "      dtype='object')"
      ]
     },
     "execution_count": 5,
     "metadata": {},
     "output_type": "execute_result"
    }
   ],
   "source": [
    "df.columns"
   ]
  },
  {
   "cell_type": "code",
   "execution_count": 6,
   "id": "e145478a-50e6-442b-8c70-d72462444eae",
   "metadata": {},
   "outputs": [],
   "source": [
    "dta = df[[\n",
    "    'Trimestres',\n",
    "    'Producto bruto interno por tipo de gasto (millones S/ 2007) - PBI',\n",
    "    'Producto bruto interno por tipo de gasto (millones S/ 2007) - Demanda Interna - Consumo Privado',\n",
    "    'Producto bruto interno por tipo de gasto (millones S/ 2007) - Demanda Interna - Inversión Bruta Interna',\n",
    "    'Índice de precios Lima Metropolitana (índice Dic.2021 = 100) - Índice de Precios al Consumidor (IPC)',\n",
    "    'Tasas de interés del Banco Central de Reserva  - Tasa de Referencia de la Política Monetaria'   \n",
    "]]"
   ]
  },
  {
   "cell_type": "code",
   "execution_count": 7,
   "id": "23ce279d-5a2c-4f2d-8c35-83aa13328a42",
   "metadata": {},
   "outputs": [],
   "source": [
    "dta.rename({\n",
    "    'Producto bruto interno por tipo de gasto (millones S/ 2007) - PBI': 'PBI',\n",
    "    'Producto bruto interno por tipo de gasto (millones S/ 2007) - Demanda Interna - Consumo Privado': 'ConsumoPrivado',\n",
    "    'Producto bruto interno por tipo de gasto (millones S/ 2007) - Demanda Interna - Inversión Bruta Interna': 'InversiónTotal',\n",
    "    'Índice de precios Lima Metropolitana (índice Dic.2021 = 100) - Índice de Precios al Consumidor (IPC)': 'IPC',\n",
    "    'Tasas de interés del Banco Central de Reserva  - Tasa de Referencia de la Política Monetaria': 'TasaRef'  \n",
    "}, axis=1, inplace=True)"
   ]
  },
  {
   "cell_type": "code",
   "execution_count": 8,
   "id": "329264a2-d72d-4405-96bd-8f13c21bc23f",
   "metadata": {},
   "outputs": [
    {
     "data": {
      "text/html": [
       "<div>\n",
       "<style scoped>\n",
       "    .dataframe tbody tr th:only-of-type {\n",
       "        vertical-align: middle;\n",
       "    }\n",
       "\n",
       "    .dataframe tbody tr th {\n",
       "        vertical-align: top;\n",
       "    }\n",
       "\n",
       "    .dataframe thead th {\n",
       "        text-align: right;\n",
       "    }\n",
       "</style>\n",
       "<table border=\"1\" class=\"dataframe\">\n",
       "  <thead>\n",
       "    <tr style=\"text-align: right;\">\n",
       "      <th></th>\n",
       "      <th>Trimestres</th>\n",
       "      <th>PBI</th>\n",
       "      <th>ConsumoPrivado</th>\n",
       "      <th>InversiónTotal</th>\n",
       "      <th>IPC</th>\n",
       "      <th>TasaRef</th>\n",
       "    </tr>\n",
       "  </thead>\n",
       "  <tbody>\n",
       "    <tr>\n",
       "      <th>0</th>\n",
       "      <td>1980T1</td>\n",
       "      <td>36357.477805</td>\n",
       "      <td>24238.848074</td>\n",
       "      <td>2953.415306</td>\n",
       "      <td>NaN</td>\n",
       "      <td>NaN</td>\n",
       "    </tr>\n",
       "    <tr>\n",
       "      <th>1</th>\n",
       "      <td>1980T2</td>\n",
       "      <td>43102.110211</td>\n",
       "      <td>24316.137863</td>\n",
       "      <td>11828.128894</td>\n",
       "      <td>NaN</td>\n",
       "      <td>NaN</td>\n",
       "    </tr>\n",
       "    <tr>\n",
       "      <th>2</th>\n",
       "      <td>1980T3</td>\n",
       "      <td>42344.482920</td>\n",
       "      <td>27480.414259</td>\n",
       "      <td>8451.614920</td>\n",
       "      <td>NaN</td>\n",
       "      <td>NaN</td>\n",
       "    </tr>\n",
       "    <tr>\n",
       "      <th>3</th>\n",
       "      <td>1980T4</td>\n",
       "      <td>45791.929063</td>\n",
       "      <td>28586.599803</td>\n",
       "      <td>11058.492780</td>\n",
       "      <td>NaN</td>\n",
       "      <td>NaN</td>\n",
       "    </tr>\n",
       "    <tr>\n",
       "      <th>4</th>\n",
       "      <td>1981T1</td>\n",
       "      <td>39025.874528</td>\n",
       "      <td>28249.574668</td>\n",
       "      <td>3744.554508</td>\n",
       "      <td>NaN</td>\n",
       "      <td>NaN</td>\n",
       "    </tr>\n",
       "  </tbody>\n",
       "</table>\n",
       "</div>"
      ],
      "text/plain": [
       "  Trimestres           PBI  ConsumoPrivado  InversiónTotal  IPC  TasaRef\n",
       "0     1980T1  36357.477805    24238.848074     2953.415306  NaN      NaN\n",
       "1     1980T2  43102.110211    24316.137863    11828.128894  NaN      NaN\n",
       "2     1980T3  42344.482920    27480.414259     8451.614920  NaN      NaN\n",
       "3     1980T4  45791.929063    28586.599803    11058.492780  NaN      NaN\n",
       "4     1981T1  39025.874528    28249.574668     3744.554508  NaN      NaN"
      ]
     },
     "execution_count": 8,
     "metadata": {},
     "output_type": "execute_result"
    }
   ],
   "source": [
    "dta.head()"
   ]
  },
  {
   "cell_type": "markdown",
   "id": "4a7ba9a7-e446-4bf8-8750-a86bfbdad7ce",
   "metadata": {},
   "source": [
    "### Manipulaciones\n",
    "Primero el índice se colocará en formato `datetime` "
   ]
  },
  {
   "cell_type": "code",
   "execution_count": 9,
   "id": "557db5bd-b5fd-4260-8245-a042d285d5db",
   "metadata": {},
   "outputs": [],
   "source": [
    "dta[\"Año\"] = dta[\"Trimestres\"].str[:4]\n",
    "dta[\"Trimestre\"] = dta[\"Trimestres\"].str[5:]\n",
    "dta = dta.drop(\"Trimestres\", axis=1)\n",
    "\n",
    "# Índice\n",
    "dta.set_index([\"Año\", \"Trimestre\"], inplace=True) "
   ]
  },
  {
   "cell_type": "code",
   "execution_count": 10,
   "id": "dc9d938c-fb5e-41ff-a41b-0d45a3d41e13",
   "metadata": {},
   "outputs": [
    {
     "data": {
      "text/html": [
       "<div>\n",
       "<style scoped>\n",
       "    .dataframe tbody tr th:only-of-type {\n",
       "        vertical-align: middle;\n",
       "    }\n",
       "\n",
       "    .dataframe tbody tr th {\n",
       "        vertical-align: top;\n",
       "    }\n",
       "\n",
       "    .dataframe thead th {\n",
       "        text-align: right;\n",
       "    }\n",
       "</style>\n",
       "<table border=\"1\" class=\"dataframe\">\n",
       "  <thead>\n",
       "    <tr style=\"text-align: right;\">\n",
       "      <th></th>\n",
       "      <th></th>\n",
       "      <th>PBI</th>\n",
       "      <th>ConsumoPrivado</th>\n",
       "      <th>InversiónTotal</th>\n",
       "      <th>IPC</th>\n",
       "      <th>TasaRef</th>\n",
       "    </tr>\n",
       "    <tr>\n",
       "      <th>Año</th>\n",
       "      <th>Trimestre</th>\n",
       "      <th></th>\n",
       "      <th></th>\n",
       "      <th></th>\n",
       "      <th></th>\n",
       "      <th></th>\n",
       "    </tr>\n",
       "  </thead>\n",
       "  <tbody>\n",
       "    <tr>\n",
       "      <th rowspan=\"4\" valign=\"top\">1980</th>\n",
       "      <th>1</th>\n",
       "      <td>36357.477805</td>\n",
       "      <td>24238.848074</td>\n",
       "      <td>2953.415306</td>\n",
       "      <td>NaN</td>\n",
       "      <td>NaN</td>\n",
       "    </tr>\n",
       "    <tr>\n",
       "      <th>2</th>\n",
       "      <td>43102.110211</td>\n",
       "      <td>24316.137863</td>\n",
       "      <td>11828.128894</td>\n",
       "      <td>NaN</td>\n",
       "      <td>NaN</td>\n",
       "    </tr>\n",
       "    <tr>\n",
       "      <th>3</th>\n",
       "      <td>42344.482920</td>\n",
       "      <td>27480.414259</td>\n",
       "      <td>8451.614920</td>\n",
       "      <td>NaN</td>\n",
       "      <td>NaN</td>\n",
       "    </tr>\n",
       "    <tr>\n",
       "      <th>4</th>\n",
       "      <td>45791.929063</td>\n",
       "      <td>28586.599803</td>\n",
       "      <td>11058.492780</td>\n",
       "      <td>NaN</td>\n",
       "      <td>NaN</td>\n",
       "    </tr>\n",
       "    <tr>\n",
       "      <th>1981</th>\n",
       "      <th>1</th>\n",
       "      <td>39025.874528</td>\n",
       "      <td>28249.574668</td>\n",
       "      <td>3744.554508</td>\n",
       "      <td>NaN</td>\n",
       "      <td>NaN</td>\n",
       "    </tr>\n",
       "  </tbody>\n",
       "</table>\n",
       "</div>"
      ],
      "text/plain": [
       "                         PBI  ConsumoPrivado  InversiónTotal  IPC  TasaRef\n",
       "Año  Trimestre                                                            \n",
       "1980 1          36357.477805    24238.848074     2953.415306  NaN      NaN\n",
       "     2          43102.110211    24316.137863    11828.128894  NaN      NaN\n",
       "     3          42344.482920    27480.414259     8451.614920  NaN      NaN\n",
       "     4          45791.929063    28586.599803    11058.492780  NaN      NaN\n",
       "1981 1          39025.874528    28249.574668     3744.554508  NaN      NaN"
      ]
     },
     "execution_count": 10,
     "metadata": {},
     "output_type": "execute_result"
    }
   ],
   "source": [
    "dta.head()"
   ]
  },
  {
   "cell_type": "markdown",
   "id": "345967cc-60c2-4616-9e6c-1fd92c3dcfff",
   "metadata": {},
   "source": [
    "#### 1) Logaritmos\n",
    "Por lo general, se transforma las series en niveles (por ejemplo, en millones) para eliminar la tendencia exponencial que tiene. Los logaritmos reducen las dimensiones de las series, sobre todo aquellos valores muy grandes. En ese sentido, permite realizar un mejor análisis"
   ]
  },
  {
   "cell_type": "code",
   "execution_count": 11,
   "id": "fa736af4-1314-4210-9337-ebda94a637fa",
   "metadata": {},
   "outputs": [],
   "source": [
    "dta[\"lnPBI\"] = np.log(dta[\"PBI\"])\n",
    "dta[\"lnConsumoPrivado\"] = np.log(dta[\"ConsumoPrivado\"])\n",
    "dta[\"lnInversiónTotal\"] = np.log(dta[\"InversiónTotal\"])"
   ]
  },
  {
   "cell_type": "code",
   "execution_count": 12,
   "id": "482324cb-f77d-4840-a7ac-4f74f25b77ac",
   "metadata": {},
   "outputs": [
    {
     "data": {
      "text/html": [
       "<div>\n",
       "<style scoped>\n",
       "    .dataframe tbody tr th:only-of-type {\n",
       "        vertical-align: middle;\n",
       "    }\n",
       "\n",
       "    .dataframe tbody tr th {\n",
       "        vertical-align: top;\n",
       "    }\n",
       "\n",
       "    .dataframe thead th {\n",
       "        text-align: right;\n",
       "    }\n",
       "</style>\n",
       "<table border=\"1\" class=\"dataframe\">\n",
       "  <thead>\n",
       "    <tr style=\"text-align: right;\">\n",
       "      <th></th>\n",
       "      <th></th>\n",
       "      <th>PBI</th>\n",
       "      <th>ConsumoPrivado</th>\n",
       "      <th>InversiónTotal</th>\n",
       "      <th>IPC</th>\n",
       "      <th>TasaRef</th>\n",
       "      <th>lnPBI</th>\n",
       "      <th>lnConsumoPrivado</th>\n",
       "      <th>lnInversiónTotal</th>\n",
       "    </tr>\n",
       "    <tr>\n",
       "      <th>Año</th>\n",
       "      <th>Trimestre</th>\n",
       "      <th></th>\n",
       "      <th></th>\n",
       "      <th></th>\n",
       "      <th></th>\n",
       "      <th></th>\n",
       "      <th></th>\n",
       "      <th></th>\n",
       "      <th></th>\n",
       "    </tr>\n",
       "  </thead>\n",
       "  <tbody>\n",
       "    <tr>\n",
       "      <th rowspan=\"4\" valign=\"top\">1980</th>\n",
       "      <th>1</th>\n",
       "      <td>36357.477805</td>\n",
       "      <td>24238.848074</td>\n",
       "      <td>2953.415306</td>\n",
       "      <td>NaN</td>\n",
       "      <td>NaN</td>\n",
       "      <td>10.501155</td>\n",
       "      <td>10.095712</td>\n",
       "      <td>7.990718</td>\n",
       "    </tr>\n",
       "    <tr>\n",
       "      <th>2</th>\n",
       "      <td>43102.110211</td>\n",
       "      <td>24316.137863</td>\n",
       "      <td>11828.128894</td>\n",
       "      <td>NaN</td>\n",
       "      <td>NaN</td>\n",
       "      <td>10.671327</td>\n",
       "      <td>10.098896</td>\n",
       "      <td>9.378236</td>\n",
       "    </tr>\n",
       "    <tr>\n",
       "      <th>3</th>\n",
       "      <td>42344.482920</td>\n",
       "      <td>27480.414259</td>\n",
       "      <td>8451.614920</td>\n",
       "      <td>NaN</td>\n",
       "      <td>NaN</td>\n",
       "      <td>10.653593</td>\n",
       "      <td>10.221229</td>\n",
       "      <td>9.042113</td>\n",
       "    </tr>\n",
       "    <tr>\n",
       "      <th>4</th>\n",
       "      <td>45791.929063</td>\n",
       "      <td>28586.599803</td>\n",
       "      <td>11058.492780</td>\n",
       "      <td>NaN</td>\n",
       "      <td>NaN</td>\n",
       "      <td>10.731863</td>\n",
       "      <td>10.260693</td>\n",
       "      <td>9.310954</td>\n",
       "    </tr>\n",
       "    <tr>\n",
       "      <th>1981</th>\n",
       "      <th>1</th>\n",
       "      <td>39025.874528</td>\n",
       "      <td>28249.574668</td>\n",
       "      <td>3744.554508</td>\n",
       "      <td>NaN</td>\n",
       "      <td>NaN</td>\n",
       "      <td>10.571980</td>\n",
       "      <td>10.248834</td>\n",
       "      <td>8.228058</td>\n",
       "    </tr>\n",
       "  </tbody>\n",
       "</table>\n",
       "</div>"
      ],
      "text/plain": [
       "                         PBI  ConsumoPrivado  InversiónTotal  IPC  TasaRef  \\\n",
       "Año  Trimestre                                                               \n",
       "1980 1          36357.477805    24238.848074     2953.415306  NaN      NaN   \n",
       "     2          43102.110211    24316.137863    11828.128894  NaN      NaN   \n",
       "     3          42344.482920    27480.414259     8451.614920  NaN      NaN   \n",
       "     4          45791.929063    28586.599803    11058.492780  NaN      NaN   \n",
       "1981 1          39025.874528    28249.574668     3744.554508  NaN      NaN   \n",
       "\n",
       "                    lnPBI  lnConsumoPrivado  lnInversiónTotal  \n",
       "Año  Trimestre                                                 \n",
       "1980 1          10.501155         10.095712          7.990718  \n",
       "     2          10.671327         10.098896          9.378236  \n",
       "     3          10.653593         10.221229          9.042113  \n",
       "     4          10.731863         10.260693          9.310954  \n",
       "1981 1          10.571980         10.248834          8.228058  "
      ]
     },
     "execution_count": 12,
     "metadata": {},
     "output_type": "execute_result"
    }
   ],
   "source": [
    "dta.head()"
   ]
  },
  {
   "cell_type": "markdown",
   "id": "619f8b92-7760-4134-ba26-419df0a0cf15",
   "metadata": {},
   "source": [
    "#### 2) Variaciones\n",
    "\n",
    "Las variaciones se pueden realizar de dos maneras diferentes: variaciones interanuales de las series o sacando diferencias a los logaritmos"
   ]
  },
  {
   "cell_type": "code",
   "execution_count": 13,
   "id": "e83af268-a987-4ed0-b761-d5be614437e8",
   "metadata": {},
   "outputs": [],
   "source": [
    "# Primera forma: variaciones interanuales\n",
    "\n",
    "dta[\"PBI_var\"] = (dta[\"PBI\"]/dta[\"PBI\"].shift(4)-1)*100\n",
    "dta[\"ConsumoPrivado_var\"] = (dta[\"ConsumoPrivado\"]/dta[\"ConsumoPrivado\"].shift(4)-1)*100\n",
    "dta[\"InversiónTotal_var\"] = (dta[\"InversiónTotal\"]/dta[\"InversiónTotal\"].shift(4)-1)*100"
   ]
  },
  {
   "cell_type": "code",
   "execution_count": 14,
   "id": "282c3fe3-bc8f-4744-9816-d6acb0acd6e0",
   "metadata": {},
   "outputs": [],
   "source": [
    "# Segunda forma: diferencias a los logaritmos\n",
    "\n",
    "dta[\"PBI_var\"] = (dta[\"lnPBI\"] - dta[\"lnPBI\"].shift(4))*100\n",
    "dta[\"ConsumoPrivado_var\"] = (dta[\"lnConsumoPrivado\"] - dta[\"lnConsumoPrivado\"].shift(4))*100\n",
    "dta[\"InversiónTotal_var\"] = (dta[\"lnInversiónTotal\"] - dta[\"lnInversiónTotal\"].shift(4))*100"
   ]
  },
  {
   "cell_type": "code",
   "execution_count": 15,
   "id": "df8a4212-cc22-44a1-8925-12ea9f69406c",
   "metadata": {},
   "outputs": [
    {
     "data": {
      "text/html": [
       "<div>\n",
       "<style scoped>\n",
       "    .dataframe tbody tr th:only-of-type {\n",
       "        vertical-align: middle;\n",
       "    }\n",
       "\n",
       "    .dataframe tbody tr th {\n",
       "        vertical-align: top;\n",
       "    }\n",
       "\n",
       "    .dataframe thead th {\n",
       "        text-align: right;\n",
       "    }\n",
       "</style>\n",
       "<table border=\"1\" class=\"dataframe\">\n",
       "  <thead>\n",
       "    <tr style=\"text-align: right;\">\n",
       "      <th></th>\n",
       "      <th></th>\n",
       "      <th>PBI</th>\n",
       "      <th>ConsumoPrivado</th>\n",
       "      <th>InversiónTotal</th>\n",
       "      <th>IPC</th>\n",
       "      <th>TasaRef</th>\n",
       "      <th>lnPBI</th>\n",
       "      <th>lnConsumoPrivado</th>\n",
       "      <th>lnInversiónTotal</th>\n",
       "      <th>PBI_var</th>\n",
       "      <th>ConsumoPrivado_var</th>\n",
       "      <th>InversiónTotal_var</th>\n",
       "    </tr>\n",
       "    <tr>\n",
       "      <th>Año</th>\n",
       "      <th>Trimestre</th>\n",
       "      <th></th>\n",
       "      <th></th>\n",
       "      <th></th>\n",
       "      <th></th>\n",
       "      <th></th>\n",
       "      <th></th>\n",
       "      <th></th>\n",
       "      <th></th>\n",
       "      <th></th>\n",
       "      <th></th>\n",
       "      <th></th>\n",
       "    </tr>\n",
       "  </thead>\n",
       "  <tbody>\n",
       "    <tr>\n",
       "      <th rowspan=\"4\" valign=\"top\">1980</th>\n",
       "      <th>1</th>\n",
       "      <td>36357.477805</td>\n",
       "      <td>24238.848074</td>\n",
       "      <td>2953.415306</td>\n",
       "      <td>NaN</td>\n",
       "      <td>NaN</td>\n",
       "      <td>10.501155</td>\n",
       "      <td>10.095712</td>\n",
       "      <td>7.990718</td>\n",
       "      <td>NaN</td>\n",
       "      <td>NaN</td>\n",
       "      <td>NaN</td>\n",
       "    </tr>\n",
       "    <tr>\n",
       "      <th>2</th>\n",
       "      <td>43102.110211</td>\n",
       "      <td>24316.137863</td>\n",
       "      <td>11828.128894</td>\n",
       "      <td>NaN</td>\n",
       "      <td>NaN</td>\n",
       "      <td>10.671327</td>\n",
       "      <td>10.098896</td>\n",
       "      <td>9.378236</td>\n",
       "      <td>NaN</td>\n",
       "      <td>NaN</td>\n",
       "      <td>NaN</td>\n",
       "    </tr>\n",
       "    <tr>\n",
       "      <th>3</th>\n",
       "      <td>42344.482920</td>\n",
       "      <td>27480.414259</td>\n",
       "      <td>8451.614920</td>\n",
       "      <td>NaN</td>\n",
       "      <td>NaN</td>\n",
       "      <td>10.653593</td>\n",
       "      <td>10.221229</td>\n",
       "      <td>9.042113</td>\n",
       "      <td>NaN</td>\n",
       "      <td>NaN</td>\n",
       "      <td>NaN</td>\n",
       "    </tr>\n",
       "    <tr>\n",
       "      <th>4</th>\n",
       "      <td>45791.929063</td>\n",
       "      <td>28586.599803</td>\n",
       "      <td>11058.492780</td>\n",
       "      <td>NaN</td>\n",
       "      <td>NaN</td>\n",
       "      <td>10.731863</td>\n",
       "      <td>10.260693</td>\n",
       "      <td>9.310954</td>\n",
       "      <td>NaN</td>\n",
       "      <td>NaN</td>\n",
       "      <td>NaN</td>\n",
       "    </tr>\n",
       "    <tr>\n",
       "      <th>1981</th>\n",
       "      <th>1</th>\n",
       "      <td>39025.874528</td>\n",
       "      <td>28249.574668</td>\n",
       "      <td>3744.554508</td>\n",
       "      <td>NaN</td>\n",
       "      <td>NaN</td>\n",
       "      <td>10.571980</td>\n",
       "      <td>10.248834</td>\n",
       "      <td>8.228058</td>\n",
       "      <td>7.082498</td>\n",
       "      <td>15.312176</td>\n",
       "      <td>23.734042</td>\n",
       "    </tr>\n",
       "  </tbody>\n",
       "</table>\n",
       "</div>"
      ],
      "text/plain": [
       "                         PBI  ConsumoPrivado  InversiónTotal  IPC  TasaRef  \\\n",
       "Año  Trimestre                                                               \n",
       "1980 1          36357.477805    24238.848074     2953.415306  NaN      NaN   \n",
       "     2          43102.110211    24316.137863    11828.128894  NaN      NaN   \n",
       "     3          42344.482920    27480.414259     8451.614920  NaN      NaN   \n",
       "     4          45791.929063    28586.599803    11058.492780  NaN      NaN   \n",
       "1981 1          39025.874528    28249.574668     3744.554508  NaN      NaN   \n",
       "\n",
       "                    lnPBI  lnConsumoPrivado  lnInversiónTotal   PBI_var  \\\n",
       "Año  Trimestre                                                            \n",
       "1980 1          10.501155         10.095712          7.990718       NaN   \n",
       "     2          10.671327         10.098896          9.378236       NaN   \n",
       "     3          10.653593         10.221229          9.042113       NaN   \n",
       "     4          10.731863         10.260693          9.310954       NaN   \n",
       "1981 1          10.571980         10.248834          8.228058  7.082498   \n",
       "\n",
       "                ConsumoPrivado_var  InversiónTotal_var  \n",
       "Año  Trimestre                                          \n",
       "1980 1                         NaN                 NaN  \n",
       "     2                         NaN                 NaN  \n",
       "     3                         NaN                 NaN  \n",
       "     4                         NaN                 NaN  \n",
       "1981 1                   15.312176           23.734042  "
      ]
     },
     "execution_count": 15,
     "metadata": {},
     "output_type": "execute_result"
    }
   ],
   "source": [
    "dta.head()"
   ]
  },
  {
   "cell_type": "markdown",
   "id": "12d8580a-fa47-406a-ae0a-a7ba0366dbe4",
   "metadata": {},
   "source": [
    "#### 3) Índices\n",
    "Se puede manipular o crear índices, los cuales servirán para tener una noción de cuánto una variables ha crecido fijando una fecha en particular. El IPC está con un índice a diciembre-2021=100. Vamos a transformarla para colocarlo en índice 2007=100"
   ]
  },
  {
   "cell_type": "code",
   "execution_count": 16,
   "id": "71e8c86e-7513-4f67-844b-faa1f7c26b33",
   "metadata": {},
   "outputs": [],
   "source": [
    "dta[\"IPC_2007\"] = (dta[\"IPC\"]/ dta[\"IPC\"][dta[\"IPC\"].index.get_level_values(0) == '2007'].mean() )*100"
   ]
  },
  {
   "cell_type": "code",
   "execution_count": 17,
   "id": "6b82a5ed-b07d-4863-8d58-c1634ae6cc0b",
   "metadata": {},
   "outputs": [
    {
     "data": {
      "text/html": [
       "<div>\n",
       "<style scoped>\n",
       "    .dataframe tbody tr th:only-of-type {\n",
       "        vertical-align: middle;\n",
       "    }\n",
       "\n",
       "    .dataframe tbody tr th {\n",
       "        vertical-align: top;\n",
       "    }\n",
       "\n",
       "    .dataframe thead th {\n",
       "        text-align: right;\n",
       "    }\n",
       "</style>\n",
       "<table border=\"1\" class=\"dataframe\">\n",
       "  <thead>\n",
       "    <tr style=\"text-align: right;\">\n",
       "      <th></th>\n",
       "      <th></th>\n",
       "      <th>PBI</th>\n",
       "      <th>ConsumoPrivado</th>\n",
       "      <th>InversiónTotal</th>\n",
       "      <th>IPC</th>\n",
       "      <th>TasaRef</th>\n",
       "      <th>lnPBI</th>\n",
       "      <th>lnConsumoPrivado</th>\n",
       "      <th>lnInversiónTotal</th>\n",
       "      <th>PBI_var</th>\n",
       "      <th>ConsumoPrivado_var</th>\n",
       "      <th>InversiónTotal_var</th>\n",
       "      <th>IPC_2007</th>\n",
       "    </tr>\n",
       "    <tr>\n",
       "      <th>Año</th>\n",
       "      <th>Trimestre</th>\n",
       "      <th></th>\n",
       "      <th></th>\n",
       "      <th></th>\n",
       "      <th></th>\n",
       "      <th></th>\n",
       "      <th></th>\n",
       "      <th></th>\n",
       "      <th></th>\n",
       "      <th></th>\n",
       "      <th></th>\n",
       "      <th></th>\n",
       "      <th></th>\n",
       "    </tr>\n",
       "  </thead>\n",
       "  <tbody>\n",
       "    <tr>\n",
       "      <th rowspan=\"4\" valign=\"top\">2007</th>\n",
       "      <th>1</th>\n",
       "      <td>73354.134</td>\n",
       "      <td>46181.0</td>\n",
       "      <td>14604.280160</td>\n",
       "      <td>62.944301</td>\n",
       "      <td>4.5</td>\n",
       "      <td>11.203054</td>\n",
       "      <td>10.740324</td>\n",
       "      <td>9.589070</td>\n",
       "      <td>5.151809</td>\n",
       "      <td>7.276898</td>\n",
       "      <td>10.774952</td>\n",
       "      <td>98.323666</td>\n",
       "    </tr>\n",
       "    <tr>\n",
       "      <th>2</th>\n",
       "      <td>80625.955</td>\n",
       "      <td>47902.0</td>\n",
       "      <td>19618.342755</td>\n",
       "      <td>63.664257</td>\n",
       "      <td>4.5</td>\n",
       "      <td>11.297576</td>\n",
       "      <td>10.776913</td>\n",
       "      <td>9.884220</td>\n",
       "      <td>6.140661</td>\n",
       "      <td>8.643631</td>\n",
       "      <td>13.673645</td>\n",
       "      <td>99.448290</td>\n",
       "    </tr>\n",
       "    <tr>\n",
       "      <th>3</th>\n",
       "      <td>80699.622</td>\n",
       "      <td>48878.0</td>\n",
       "      <td>17006.531832</td>\n",
       "      <td>64.446920</td>\n",
       "      <td>5.0</td>\n",
       "      <td>11.298489</td>\n",
       "      <td>10.797083</td>\n",
       "      <td>9.741353</td>\n",
       "      <td>10.293183</td>\n",
       "      <td>8.045227</td>\n",
       "      <td>48.371031</td>\n",
       "      <td>100.670868</td>\n",
       "    </tr>\n",
       "    <tr>\n",
       "      <th>4</th>\n",
       "      <td>85013.289</td>\n",
       "      <td>49355.0</td>\n",
       "      <td>19958.597515</td>\n",
       "      <td>65.014312</td>\n",
       "      <td>5.0</td>\n",
       "      <td>11.350563</td>\n",
       "      <td>10.806794</td>\n",
       "      <td>9.901415</td>\n",
       "      <td>10.817577</td>\n",
       "      <td>9.168614</td>\n",
       "      <td>37.414986</td>\n",
       "      <td>101.557177</td>\n",
       "    </tr>\n",
       "  </tbody>\n",
       "</table>\n",
       "</div>"
      ],
      "text/plain": [
       "                      PBI  ConsumoPrivado  InversiónTotal        IPC  TasaRef  \\\n",
       "Año  Trimestre                                                                  \n",
       "2007 1          73354.134         46181.0    14604.280160  62.944301      4.5   \n",
       "     2          80625.955         47902.0    19618.342755  63.664257      4.5   \n",
       "     3          80699.622         48878.0    17006.531832  64.446920      5.0   \n",
       "     4          85013.289         49355.0    19958.597515  65.014312      5.0   \n",
       "\n",
       "                    lnPBI  lnConsumoPrivado  lnInversiónTotal    PBI_var  \\\n",
       "Año  Trimestre                                                             \n",
       "2007 1          11.203054         10.740324          9.589070   5.151809   \n",
       "     2          11.297576         10.776913          9.884220   6.140661   \n",
       "     3          11.298489         10.797083          9.741353  10.293183   \n",
       "     4          11.350563         10.806794          9.901415  10.817577   \n",
       "\n",
       "                ConsumoPrivado_var  InversiónTotal_var    IPC_2007  \n",
       "Año  Trimestre                                                      \n",
       "2007 1                    7.276898           10.774952   98.323666  \n",
       "     2                    8.643631           13.673645   99.448290  \n",
       "     3                    8.045227           48.371031  100.670868  \n",
       "     4                    9.168614           37.414986  101.557177  "
      ]
     },
     "execution_count": 17,
     "metadata": {},
     "output_type": "execute_result"
    }
   ],
   "source": [
    "dta[dta[\"IPC\"].index.get_level_values(0) == '2007']"
   ]
  },
  {
   "cell_type": "markdown",
   "id": "567687fb-243e-4b89-88ac-d4222a75b4c4",
   "metadata": {},
   "source": [
    "### Estadística descriptiva y gráficos"
   ]
  },
  {
   "cell_type": "code",
   "execution_count": 18,
   "id": "6ed21653-0c04-48b3-bfac-df43dd5f3802",
   "metadata": {},
   "outputs": [
    {
     "name": "stdout",
     "output_type": "stream",
     "text": [
      "La base de datos contiene 170 observaciones y 12 variables.\n"
     ]
    }
   ],
   "source": [
    "print(f\"La base de datos contiene {dta.shape[0]} observaciones y {dta.shape[1]} variables.\")"
   ]
  },
  {
   "cell_type": "code",
   "execution_count": 19,
   "id": "0faea090-1982-419a-af09-6d708ed28149",
   "metadata": {},
   "outputs": [
    {
     "data": {
      "text/plain": [
       "PBI                   float64\n",
       "ConsumoPrivado        float64\n",
       "InversiónTotal        float64\n",
       "IPC                   float64\n",
       "TasaRef               float64\n",
       "lnPBI                 float64\n",
       "lnConsumoPrivado      float64\n",
       "lnInversiónTotal      float64\n",
       "PBI_var               float64\n",
       "ConsumoPrivado_var    float64\n",
       "InversiónTotal_var    float64\n",
       "IPC_2007              float64\n",
       "dtype: object"
      ]
     },
     "execution_count": 19,
     "metadata": {},
     "output_type": "execute_result"
    }
   ],
   "source": [
    "dta.dtypes"
   ]
  },
  {
   "cell_type": "code",
   "execution_count": 20,
   "id": "c25761db-cc4a-4751-a019-65e6a24ef10d",
   "metadata": {},
   "outputs": [
    {
     "data": {
      "text/html": [
       "<div>\n",
       "<style scoped>\n",
       "    .dataframe tbody tr th:only-of-type {\n",
       "        vertical-align: middle;\n",
       "    }\n",
       "\n",
       "    .dataframe tbody tr th {\n",
       "        vertical-align: top;\n",
       "    }\n",
       "\n",
       "    .dataframe thead th {\n",
       "        text-align: right;\n",
       "    }\n",
       "</style>\n",
       "<table border=\"1\" class=\"dataframe\">\n",
       "  <thead>\n",
       "    <tr style=\"text-align: right;\">\n",
       "      <th></th>\n",
       "      <th>PBI</th>\n",
       "      <th>ConsumoPrivado</th>\n",
       "      <th>InversiónTotal</th>\n",
       "      <th>IPC</th>\n",
       "      <th>TasaRef</th>\n",
       "      <th>lnPBI</th>\n",
       "      <th>lnConsumoPrivado</th>\n",
       "      <th>lnInversiónTotal</th>\n",
       "      <th>PBI_var</th>\n",
       "      <th>ConsumoPrivado_var</th>\n",
       "      <th>InversiónTotal_var</th>\n",
       "      <th>IPC_2007</th>\n",
       "    </tr>\n",
       "  </thead>\n",
       "  <tbody>\n",
       "    <tr>\n",
       "      <th>count</th>\n",
       "      <td>169.000000</td>\n",
       "      <td>169.000000</td>\n",
       "      <td>169.000000</td>\n",
       "      <td>126.000000</td>\n",
       "      <td>76.000000</td>\n",
       "      <td>169.000000</td>\n",
       "      <td>169.000000</td>\n",
       "      <td>168.000000</td>\n",
       "      <td>165.000000</td>\n",
       "      <td>165.000000</td>\n",
       "      <td>163.000000</td>\n",
       "      <td>126.000000</td>\n",
       "    </tr>\n",
       "    <tr>\n",
       "      <th>mean</th>\n",
       "      <td>72477.317235</td>\n",
       "      <td>46686.550912</td>\n",
       "      <td>15036.869080</td>\n",
       "      <td>63.917909</td>\n",
       "      <td>3.381579</td>\n",
       "      <td>11.089632</td>\n",
       "      <td>10.658858</td>\n",
       "      <td>9.380162</td>\n",
       "      <td>2.917371</td>\n",
       "      <td>3.016735</td>\n",
       "      <td>3.836309</td>\n",
       "      <td>99.844514</td>\n",
       "    </tr>\n",
       "    <tr>\n",
       "      <th>std</th>\n",
       "      <td>33889.129149</td>\n",
       "      <td>21096.978089</td>\n",
       "      <td>9855.446969</td>\n",
       "      <td>21.604338</td>\n",
       "      <td>1.415670</td>\n",
       "      <td>0.443847</td>\n",
       "      <td>0.421050</td>\n",
       "      <td>0.758523</td>\n",
       "      <td>7.739036</td>\n",
       "      <td>7.915084</td>\n",
       "      <td>28.933762</td>\n",
       "      <td>33.747578</td>\n",
       "    </tr>\n",
       "    <tr>\n",
       "      <th>min</th>\n",
       "      <td>33934.510655</td>\n",
       "      <td>23229.036577</td>\n",
       "      <td>-747.400515</td>\n",
       "      <td>8.712466</td>\n",
       "      <td>0.250000</td>\n",
       "      <td>10.432188</td>\n",
       "      <td>10.053158</td>\n",
       "      <td>6.411344</td>\n",
       "      <td>-35.576611</td>\n",
       "      <td>-31.582406</td>\n",
       "      <td>-117.677959</td>\n",
       "      <td>13.609517</td>\n",
       "    </tr>\n",
       "    <tr>\n",
       "      <th>25%</th>\n",
       "      <td>44973.629044</td>\n",
       "      <td>29220.930905</td>\n",
       "      <td>7455.089400</td>\n",
       "      <td>52.800629</td>\n",
       "      <td>2.750000</td>\n",
       "      <td>10.713832</td>\n",
       "      <td>10.282641</td>\n",
       "      <td>8.919499</td>\n",
       "      <td>1.120760</td>\n",
       "      <td>0.649927</td>\n",
       "      <td>-8.287421</td>\n",
       "      <td>82.478497</td>\n",
       "    </tr>\n",
       "    <tr>\n",
       "      <th>50%</th>\n",
       "      <td>56186.467577</td>\n",
       "      <td>36684.398453</td>\n",
       "      <td>11052.043943</td>\n",
       "      <td>62.741201</td>\n",
       "      <td>3.500000</td>\n",
       "      <td>10.936431</td>\n",
       "      <td>10.510107</td>\n",
       "      <td>9.310662</td>\n",
       "      <td>4.472844</td>\n",
       "      <td>3.517347</td>\n",
       "      <td>4.602247</td>\n",
       "      <td>98.006408</td>\n",
       "    </tr>\n",
       "    <tr>\n",
       "      <th>75%</th>\n",
       "      <td>101056.170000</td>\n",
       "      <td>64560.297442</td>\n",
       "      <td>25459.996128</td>\n",
       "      <td>80.521824</td>\n",
       "      <td>4.250000</td>\n",
       "      <td>11.523432</td>\n",
       "      <td>11.075355</td>\n",
       "      <td>10.148106</td>\n",
       "      <td>6.282651</td>\n",
       "      <td>6.634938</td>\n",
       "      <td>19.946083</td>\n",
       "      <td>125.781060</td>\n",
       "    </tr>\n",
       "    <tr>\n",
       "      <th>max</th>\n",
       "      <td>146737.812314</td>\n",
       "      <td>91649.644649</td>\n",
       "      <td>33300.899190</td>\n",
       "      <td>104.439931</td>\n",
       "      <td>6.500000</td>\n",
       "      <td>11.896403</td>\n",
       "      <td>11.425728</td>\n",
       "      <td>10.413340</td>\n",
       "      <td>35.090386</td>\n",
       "      <td>26.808839</td>\n",
       "      <td>116.485669</td>\n",
       "      <td>163.142916</td>\n",
       "    </tr>\n",
       "  </tbody>\n",
       "</table>\n",
       "</div>"
      ],
      "text/plain": [
       "                 PBI  ConsumoPrivado  InversiónTotal         IPC    TasaRef  \\\n",
       "count     169.000000      169.000000      169.000000  126.000000  76.000000   \n",
       "mean    72477.317235    46686.550912    15036.869080   63.917909   3.381579   \n",
       "std     33889.129149    21096.978089     9855.446969   21.604338   1.415670   \n",
       "min     33934.510655    23229.036577     -747.400515    8.712466   0.250000   \n",
       "25%     44973.629044    29220.930905     7455.089400   52.800629   2.750000   \n",
       "50%     56186.467577    36684.398453    11052.043943   62.741201   3.500000   \n",
       "75%    101056.170000    64560.297442    25459.996128   80.521824   4.250000   \n",
       "max    146737.812314    91649.644649    33300.899190  104.439931   6.500000   \n",
       "\n",
       "            lnPBI  lnConsumoPrivado  lnInversiónTotal     PBI_var  \\\n",
       "count  169.000000        169.000000        168.000000  165.000000   \n",
       "mean    11.089632         10.658858          9.380162    2.917371   \n",
       "std      0.443847          0.421050          0.758523    7.739036   \n",
       "min     10.432188         10.053158          6.411344  -35.576611   \n",
       "25%     10.713832         10.282641          8.919499    1.120760   \n",
       "50%     10.936431         10.510107          9.310662    4.472844   \n",
       "75%     11.523432         11.075355         10.148106    6.282651   \n",
       "max     11.896403         11.425728         10.413340   35.090386   \n",
       "\n",
       "       ConsumoPrivado_var  InversiónTotal_var    IPC_2007  \n",
       "count          165.000000          163.000000  126.000000  \n",
       "mean             3.016735            3.836309   99.844514  \n",
       "std              7.915084           28.933762   33.747578  \n",
       "min            -31.582406         -117.677959   13.609517  \n",
       "25%              0.649927           -8.287421   82.478497  \n",
       "50%              3.517347            4.602247   98.006408  \n",
       "75%              6.634938           19.946083  125.781060  \n",
       "max             26.808839          116.485669  163.142916  "
      ]
     },
     "execution_count": 20,
     "metadata": {},
     "output_type": "execute_result"
    }
   ],
   "source": [
    "dta.describe()"
   ]
  },
  {
   "cell_type": "code",
   "execution_count": 21,
   "id": "565424f2-edab-430d-8cc3-949cc92c80fd",
   "metadata": {},
   "outputs": [
    {
     "data": {
      "image/png": "[encoded data removed]",
      "text/plain": [
       "<Figure size 720x360 with 1 Axes>"
      ]
     },
     "metadata": {
      "needs_background": "light"
     },
     "output_type": "display_data"
    }
   ],
   "source": [
    "fig, ax = plt.subplots(figsize=(10, 5))\n",
    "\n",
    "dta[\"lnPBI\"].reset_index().plot(x=\"Año\",y=\"lnPBI\", linewidth=2, label=\"Log(PBI)\", ax=ax)\n",
    "dta[\"lnConsumoPrivado\"].reset_index().plot(x=\"Año\",y=\"lnConsumoPrivado\",linewidth=2, label=\"Log(Consumo privado)\", ax=ax)\n",
    "\n",
    "ax.tick_params(axis=\"both\", direction='in', which='both', length=5, width=1, labelsize=12)\n",
    "ax.legend(bbox_to_anchor=(0, 1.12), loc='upper left', ncol=2, fontsize=13, frameon=False)\n",
    "ax.set_ylim(9.9, 12.1)\n",
    "\n",
    "\n",
    "plt.show()"
   ]
  },
  {
   "cell_type": "code",
   "execution_count": 22,
   "id": "9f49c676-aa0d-4776-86a1-072c4ccc7be3",
   "metadata": {},
   "outputs": [
    {
     "data": {
      "image/png": "[encoded data removed]",
      "text/plain": [
       "<Figure size 1296x432 with 6 Axes>"
      ]
     },
     "metadata": {
      "needs_background": "light"
     },
     "output_type": "display_data"
    }
   ],
   "source": [
    "miniPlots= dta[[\"lnPBI\", \"PBI_var\", \"lnConsumoPrivado\", \"ConsumoPrivado_var\", \"lnInversiónTotal\", \"IPC_2007\"]\n",
    "              ][(dta.index.get_level_values(0) >= '2004')&(dta.index.get_level_values(0) <= '2019')]\n",
    "\n",
    "plt.figure(figsize=(18,6))\n",
    "\n",
    "for i in enumerate(miniPlots.columns):\n",
    "    ax = plt.subplot(2, 3, i[0]+1)\n",
    "    miniPlots[i[1]].reset_index().plot(x=\"Año\", color=\"firebrick\", ax=ax)\n",
    "    plt.title(i[1])\n",
    "    plt.legend().remove()\n",
    "    \n",
    "plt.subplots_adjust(top=0.8, bottom=0.1, left=0.2, right=0.75, hspace=0.4, wspace=0.2)"
   ]
  },
  {
   "cell_type": "markdown",
   "id": "a90ec5e1-395e-4496-8454-2a32f78e0eab",
   "metadata": {},
   "source": [
    "### Desestacionalización\n",
    "Se eliminar el componente estacional de diferentes maneras:\n",
    "\n",
    "(1) Mediante un `moving average`"
   ]
  },
  {
   "cell_type": "code",
   "execution_count": 23,
   "id": "c34e56c9-cd37-4340-9ac5-b46d9e793ced",
   "metadata": {},
   "outputs": [],
   "source": [
    "dta_sa = dta[dta.index.get_level_values(0) < '2020']\n",
    "\n",
    "dta_sa[\"lnPBI_sa\"] = dta_sa[\"lnPBI\"].rolling(window=12, center=True).mean() # Moving average"
   ]
  },
  {
   "cell_type": "code",
   "execution_count": 24,
   "id": "973a2bb7-bc5d-49f1-a8b2-24a62b7f9039",
   "metadata": {},
   "outputs": [
    {
     "data": {
      "image/png": "[encoded data removed]",
      "text/plain": [
       "<Figure size 720x360 with 1 Axes>"
      ]
     },
     "metadata": {
      "needs_background": "light"
     },
     "output_type": "display_data"
    }
   ],
   "source": [
    "fig, ax = plt.subplots(figsize=(10, 5))\n",
    "\n",
    "dta_sa[\"lnPBI\"].reset_index().plot(x=\"Año\", linewidth=2, label=\"Log(PBI)\", ax=ax)\n",
    "dta_sa[\"lnPBI_sa\"].reset_index().plot(x=\"Año\", linewidth=2, label=\"Log(PBI) desestacionalizado\", ax=ax)\n",
    "\n",
    "ax.tick_params(axis=\"both\", direction='in', which='both', length=5, width=1, labelsize=12)\n",
    "ax.legend(bbox_to_anchor=(0, 1.12), loc='upper left', ncol=2, fontsize=13, frameon=False)\n",
    "ax.set_ylim(10.3, 12)\n",
    "\n",
    "plt.show()"
   ]
  },
  {
   "cell_type": "code",
   "execution_count": 25,
   "id": "d075165a-9eef-4435-b978-da3264fa3a55",
   "metadata": {},
   "outputs": [],
   "source": [
    "dta_sa[\"PBI_resid\"] = dta_sa[\"lnPBI\"] - dta_sa[\"lnPBI_sa\"]"
   ]
  },
  {
   "cell_type": "code",
   "execution_count": 26,
   "id": "eef2544f-47d8-46c6-9a5a-96eeaac64988",
   "metadata": {},
   "outputs": [
    {
     "data": {
      "image/png": "[encoded data removed]",
      "text/plain": [
       "<Figure size 720x360 with 1 Axes>"
      ]
     },
     "metadata": {
      "needs_background": "light"
     },
     "output_type": "display_data"
    }
   ],
   "source": [
    "fig, ax = plt.subplots(figsize=(10, 5))\n",
    "\n",
    "plt.axhline(y=0, color='black', linestyle='-') # zero line\n",
    "dta_sa[\"PBI_resid\"].reset_index().plot(x=\"Año\", linewidth=2, label=\"Residuos\", ax=ax)\n",
    "\n",
    "ax.tick_params(axis=\"both\", direction='in', which='both', length=5, width=1, labelsize=12)\n",
    "ax.legend(bbox_to_anchor=(0, 1.12), loc='upper left', ncol=2, fontsize=13, frameon=False)\n",
    "\n",
    "plt.show()"
   ]
  },
  {
   "cell_type": "markdown",
   "id": "bc65f002-541a-4f51-b60d-bf06227e8dd0",
   "metadata": {},
   "source": [
    "(2) Mediante `statsmodels`"
   ]
  },
  {
   "cell_type": "code",
   "execution_count": 28,
   "id": "9b2b34d0-eb9c-4ff4-a9d3-4d07901d224b",
   "metadata": {},
   "outputs": [],
   "source": [
    "df = pd.read_excel(\"./Bases de datos/PeruData.xlsx\", sheet_name=\"Mensual\", skiprows=1, index_col=\"Meses\")\n",
    "\n",
    "y = df[[\"Producto bruto interno y demanda interna (índice 2007=100) - PBI\"]]\n",
    "y = y.rename({\"Producto bruto interno y demanda interna (índice 2007=100) - PBI\": \"PBI\"}, axis=1)\n",
    "y = y[(y.index <= '2019-12-01')&(y.index >= '2003-01-01')]"
   ]
  },
  {
   "cell_type": "code",
   "execution_count": 29,
   "id": "b30a0247-ab25-4c0f-a633-06f8e04816d2",
   "metadata": {},
   "outputs": [
    {
     "data": {
      "image/png": "[encoded data removed]",
      "text/plain": [
       "<Figure size 432x288 with 4 Axes>"
      ]
     },
     "metadata": {
      "needs_background": "light"
     },
     "output_type": "display_data"
    }
   ],
   "source": [
    "import statsmodels.api as sm\n",
    "\n",
    "decomposition = sm.tsa.seasonal_decompose(y, model=\"additive\")\n",
    "\n",
    "fig = decomposition.plot()"
   ]
  },
  {
   "cell_type": "code",
   "execution_count": 30,
   "id": "4a61c935-4cc4-4840-be2e-c38288eb867a",
   "metadata": {},
   "outputs": [
    {
     "data": {
      "image/png": "[encoded data removed]",
      "text/plain": [
       "<Figure size 432x288 with 1 Axes>"
      ]
     },
     "metadata": {
      "needs_background": "light"
     },
     "output_type": "display_data"
    }
   ],
   "source": [
    "plt.plot(decomposition.trend)\n",
    "\n",
    "plt.show()"
   ]
  },
  {
   "cell_type": "markdown",
   "id": "edfe6ca0-0f1b-4e9d-b3d5-06e6365bfab7",
   "metadata": {
    "tags": []
   },
   "source": [
    "### Test de autocorrelación"
   ]
  },
  {
   "cell_type": "code",
   "execution_count": 31,
   "id": "85c5dd39-c310-407d-bb54-a3ca2c37b139",
   "metadata": {},
   "outputs": [],
   "source": [
    "from statsmodels.formula.api import ols\n",
    "\n",
    "y = dta_sa[[\"lnPBI_sa\"]]\n",
    "y[\"lnPBI_sa_1\"] = y[\"lnPBI_sa\"].shift(1) # Un rezago\n",
    "\n",
    "y = y[(y.index.get_level_values(0) >= '1985')&(y.index.get_level_values(0) <= '2019')]"
   ]
  },
  {
   "cell_type": "code",
   "execution_count": 32,
   "id": "bded97a5-2523-4033-ab7f-642792cd6802",
   "metadata": {},
   "outputs": [],
   "source": [
    "model = ols('lnPBI_sa ~ lnPBI_sa_1', data=y).fit()"
   ]
  },
  {
   "cell_type": "markdown",
   "id": "2c917274-7294-49ac-a39b-760a795ae8f7",
   "metadata": {},
   "source": [
    "(1) `Test de Durbin-Watson`"
   ]
  },
  {
   "cell_type": "code",
   "execution_count": 33,
   "id": "5a9c82f9-61f2-4e78-9207-32cedc1d1210",
   "metadata": {},
   "outputs": [],
   "source": [
    "from statsmodels.stats.stattools import durbin_watson"
   ]
  },
  {
   "cell_type": "code",
   "execution_count": 34,
   "id": "b475676e-7b11-4a55-a410-37599b817d49",
   "metadata": {},
   "outputs": [
    {
     "data": {
      "text/plain": [
       "0.17405579136535873"
      ]
     },
     "execution_count": 34,
     "metadata": {},
     "output_type": "execute_result"
    }
   ],
   "source": [
    "durbin_watson(model.resid)"
   ]
  },
  {
   "cell_type": "markdown",
   "id": "ef5f3c69-163f-41a6-9136-310b407a1150",
   "metadata": {},
   "source": [
    "El resultado es una autocorrelación positiva"
   ]
  },
  {
   "cell_type": "markdown",
   "id": "e6919785-718a-4560-988e-f06c403be02f",
   "metadata": {},
   "source": [
    "(2) `Test de Breusch-Godfrey`"
   ]
  },
  {
   "cell_type": "code",
   "execution_count": 35,
   "id": "43968c22-eda7-41ba-9bd3-64e9f42f7cb0",
   "metadata": {},
   "outputs": [],
   "source": [
    "import statsmodels.stats.diagnostic as dg"
   ]
  },
  {
   "cell_type": "code",
   "execution_count": 36,
   "id": "263c0a50-0a94-463e-94ab-27882bbb805f",
   "metadata": {},
   "outputs": [
    {
     "data": {
      "text/plain": [
       "(118.92305157901862,\n",
       " 1.0130451636669364e-19,\n",
       " 74.58758582091848,\n",
       " 5.671843995122899e-50)"
      ]
     },
     "execution_count": 36,
     "metadata": {},
     "output_type": "execute_result"
    }
   ],
   "source": [
    "dg.acorr_breusch_godfrey(model)"
   ]
  },
  {
   "cell_type": "markdown",
   "id": "201930d5-9c62-4a84-8584-a016b2933a8a",
   "metadata": {},
   "source": [
    "El resultado nos da 4 valores. Los dos primeros son el test-estadístico y el p-value. Con ello se puede corroborar que se rechaza la hipótesis nula de no autocorrelación "
   ]
  }
 ],
 "metadata": {
  "kernelspec": {
   "display_name": "Python 3.9.7 ('base')",
   "language": "python",
   "name": "python3"
  },
  "language_info": {
   "codemirror_mode": {
    "name": "ipython",
    "version": 3
   },
   "file_extension": ".py",
   "mimetype": "text/x-python",
   "name": "python",
   "nbconvert_exporter": "python",
   "pygments_lexer": "ipython3",
   "version": "3.9.7"
  },
  "vscode": {
   "interpreter": {
    "hash": "a077222d77dfe082b8f1dd562ad70e458ac2ab76993a0b248ab0476e32e9e8dd"
   }
  }
 },
 "nbformat": 4,
 "nbformat_minor": 5
}
